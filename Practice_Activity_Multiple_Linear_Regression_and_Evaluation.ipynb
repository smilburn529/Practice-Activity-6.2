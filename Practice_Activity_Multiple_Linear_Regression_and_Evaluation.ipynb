{
  "cells": [
    {
      "cell_type": "markdown",
      "metadata": {
        "id": "FdLoheP-mrxn"
      },
      "source": [
        "# Palmer Penguins Modeling\n",
        "\n",
        "Import the Palmer Penguins dataset and print out the first few rows.\n",
        "\n",
        "Suppose we want to predict `bill_depth_mm` using the other variables in the dataset.\n",
        "\n",
        "**Dummify** all variables that require this."
      ]
    },
    {
      "cell_type": "code",
      "execution_count": 2,
      "metadata": {
        "colab": {
          "base_uri": "https://localhost:8080/"
        },
        "id": "3unVEsEyR5I8",
        "outputId": "8fe9c1ae-24a4-48a9-d13c-76b8335202cb"
      },
      "outputs": [
        {
          "name": "stdout",
          "output_type": "stream",
          "text": [
            "Requirement already satisfied: palmerpenguins in /opt/anaconda3/lib/python3.12/site-packages (0.1.4)\r\n",
            "Requirement already satisfied: palmerpenguins in /opt/anaconda3/lib/python3.12/site-packages (0.1.4)\r\n"
          ]
        },
        {
          "name": "stdout",
          "output_type": "stream",
          "text": [
            "Requirement already satisfied: pandas in /opt/anaconda3/lib/python3.12/site-packages (from palmerpenguins) (2.2.2)\r\n",
            "Requirement already satisfied: numpy in /opt/anaconda3/lib/python3.12/site-packages (from palmerpenguins) (1.26.4)\r\n",
            "Requirement already satisfied: pandas in /opt/anaconda3/lib/python3.12/site-packages (from palmerpenguins) (2.2.2)\r\n",
            "Requirement already satisfied: numpy in /opt/anaconda3/lib/python3.12/site-packages (from palmerpenguins) (1.26.4)\r\n"
          ]
        },
        {
          "name": "stdout",
          "output_type": "stream",
          "text": [
            "Requirement already satisfied: python-dateutil>=2.8.2 in /opt/anaconda3/lib/python3.12/site-packages (from pandas->palmerpenguins) (2.9.0.post0)\r\n",
            "Requirement already satisfied: pytz>=2020.1 in /opt/anaconda3/lib/python3.12/site-packages (from pandas->palmerpenguins) (2024.1)\r\n",
            "Requirement already satisfied: tzdata>=2022.7 in /opt/anaconda3/lib/python3.12/site-packages (from pandas->palmerpenguins) (2023.3)\r\n",
            "Requirement already satisfied: six>=1.5 in /opt/anaconda3/lib/python3.12/site-packages (from python-dateutil>=2.8.2->pandas->palmerpenguins) (1.16.0)\r\n",
            "Requirement already satisfied: python-dateutil>=2.8.2 in /opt/anaconda3/lib/python3.12/site-packages (from pandas->palmerpenguins) (2.9.0.post0)\r\n",
            "Requirement already satisfied: pytz>=2020.1 in /opt/anaconda3/lib/python3.12/site-packages (from pandas->palmerpenguins) (2024.1)\r\n",
            "Requirement already satisfied: tzdata>=2022.7 in /opt/anaconda3/lib/python3.12/site-packages (from pandas->palmerpenguins) (2023.3)\r\n",
            "Requirement already satisfied: six>=1.5 in /opt/anaconda3/lib/python3.12/site-packages (from python-dateutil>=2.8.2->pandas->palmerpenguins) (1.16.0)\r\n"
          ]
        },
        {
          "name": "stdout",
          "output_type": "stream",
          "text": [
            "Note: you may need to restart the kernel to use updated packages.\n",
            "Note: you may need to restart the kernel to use updated packages.\n"
          ]
        }
      ],
      "source": [
        "pip install palmerpenguins"
      ]
    },
    {
      "cell_type": "code",
      "execution_count": 3,
      "metadata": {
        "colab": {
          "base_uri": "https://localhost:8080/",
          "height": 206
        },
        "id": "N5lG475yllju",
        "outputId": "a1ffb6e5-a4f2-4c91-f8d3-821903838bc8"
      },
      "outputs": [
        {
          "data": {
            "text/html": [
              "<div>\n",
              "<style scoped>\n",
              "    .dataframe tbody tr th:only-of-type {\n",
              "        vertical-align: middle;\n",
              "    }\n",
              "\n",
              "    .dataframe tbody tr th {\n",
              "        vertical-align: top;\n",
              "    }\n",
              "\n",
              "    .dataframe thead th {\n",
              "        text-align: right;\n",
              "    }\n",
              "</style>\n",
              "<table border=\"1\" class=\"dataframe\">\n",
              "  <thead>\n",
              "    <tr style=\"text-align: right;\">\n",
              "      <th></th>\n",
              "      <th>species</th>\n",
              "      <th>island</th>\n",
              "      <th>bill_length_mm</th>\n",
              "      <th>bill_depth_mm</th>\n",
              "      <th>flipper_length_mm</th>\n",
              "      <th>body_mass_g</th>\n",
              "      <th>sex</th>\n",
              "      <th>year</th>\n",
              "    </tr>\n",
              "  </thead>\n",
              "  <tbody>\n",
              "    <tr>\n",
              "      <th>0</th>\n",
              "      <td>Adelie</td>\n",
              "      <td>Torgersen</td>\n",
              "      <td>39.1</td>\n",
              "      <td>18.7</td>\n",
              "      <td>181.0</td>\n",
              "      <td>3750.0</td>\n",
              "      <td>male</td>\n",
              "      <td>2007</td>\n",
              "    </tr>\n",
              "    <tr>\n",
              "      <th>1</th>\n",
              "      <td>Adelie</td>\n",
              "      <td>Torgersen</td>\n",
              "      <td>39.5</td>\n",
              "      <td>17.4</td>\n",
              "      <td>186.0</td>\n",
              "      <td>3800.0</td>\n",
              "      <td>female</td>\n",
              "      <td>2007</td>\n",
              "    </tr>\n",
              "    <tr>\n",
              "      <th>2</th>\n",
              "      <td>Adelie</td>\n",
              "      <td>Torgersen</td>\n",
              "      <td>40.3</td>\n",
              "      <td>18.0</td>\n",
              "      <td>195.0</td>\n",
              "      <td>3250.0</td>\n",
              "      <td>female</td>\n",
              "      <td>2007</td>\n",
              "    </tr>\n",
              "    <tr>\n",
              "      <th>3</th>\n",
              "      <td>Adelie</td>\n",
              "      <td>Torgersen</td>\n",
              "      <td>NaN</td>\n",
              "      <td>NaN</td>\n",
              "      <td>NaN</td>\n",
              "      <td>NaN</td>\n",
              "      <td>NaN</td>\n",
              "      <td>2007</td>\n",
              "    </tr>\n",
              "    <tr>\n",
              "      <th>4</th>\n",
              "      <td>Adelie</td>\n",
              "      <td>Torgersen</td>\n",
              "      <td>36.7</td>\n",
              "      <td>19.3</td>\n",
              "      <td>193.0</td>\n",
              "      <td>3450.0</td>\n",
              "      <td>female</td>\n",
              "      <td>2007</td>\n",
              "    </tr>\n",
              "  </tbody>\n",
              "</table>\n",
              "</div>"
            ],
            "text/plain": [
              "  species     island  bill_length_mm  bill_depth_mm  flipper_length_mm  body_mass_g     sex  year\n",
              "0  Adelie  Torgersen            39.1           18.7              181.0       3750.0    male  2007\n",
              "1  Adelie  Torgersen            39.5           17.4              186.0       3800.0  female  2007\n",
              "2  Adelie  Torgersen            40.3           18.0              195.0       3250.0  female  2007\n",
              "3  Adelie  Torgersen             NaN            NaN                NaN          NaN     NaN  2007\n",
              "4  Adelie  Torgersen            36.7           19.3              193.0       3450.0  female  2007"
            ]
          },
          "execution_count": null,
          "metadata": {},
          "output_type": "execute_result"
        }
      ],
      "source": [
        "import pandas as pd\n",
        "from palmerpenguins import load_penguins\n",
        "\n",
        "penguins = load_penguins()\n",
        "penguins.head()"
      ]
    },
    {
      "cell_type": "code",
      "execution_count": 4,
      "metadata": {
        "colab": {
          "base_uri": "https://localhost:8080/"
        },
        "id": "gxq0E4M5R12-",
        "outputId": "052dbf69-964b-4daf-d000-0c5729c77654"
      },
      "outputs": [
        {
          "name": "stdout",
          "output_type": "stream",
          "text": [
            "   species_Adelie  species_Chinstrap  species_Gentoo  species_Biscoe  species_Dream  species_Torgersen\n",
            "0            True              False           False           False          False               True\n",
            "1            True              False           False           False          False               True\n",
            "2            True              False           False           False          False               True\n",
            "3            True              False           False           False          False               True\n",
            "4            True              False           False           False          False               True\n",
            "   species_Adelie  species_Chinstrap  species_Gentoo  species_Biscoe  species_Dream  species_Torgersen\n",
            "0            True              False           False           False          False               True\n",
            "1            True              False           False           False          False               True\n",
            "2            True              False           False           False          False               True\n",
            "3            True              False           False           False          False               True\n",
            "4            True              False           False           False          False               True\n"
          ]
        }
      ],
      "source": [
        "dummies = pd.get_dummies(penguins[['species','island']], prefix='species')\n",
        "print(dummies.head())"
      ]
    },
    {
      "cell_type": "code",
      "execution_count": 5,
      "metadata": {
        "colab": {
          "base_uri": "https://localhost:8080/"
        },
        "id": "ROci-42ySlze",
        "outputId": "eb4caf8a-7b70-4ba2-d87e-9e359f596d95"
      },
      "outputs": [
        {
          "name": "stdout",
          "output_type": "stream",
          "text": [
            "   bill_length_mm  bill_depth_mm  flipper_length_mm  body_mass_g  year  ...  island_Biscoe  island_Dream  island_Torgersen  sex_female  sex_male\n",
            "0            39.1           18.7              181.0       3750.0  2007  ...          False         False              True       False      True\n",
            "1            39.5           17.4              186.0       3800.0  2007  ...          False         False              True        True     False\n",
            "2            40.3           18.0              195.0       3250.0  2007  ...          False         False              True        True     False\n",
            "3             NaN            NaN                NaN          NaN  2007  ...          False         False              True       False     False\n",
            "4            36.7           19.3              193.0       3450.0  2007  ...          False         False              True        True     False\n",
            "\n",
            "[5 rows x 13 columns]\n",
            "   bill_length_mm  bill_depth_mm  flipper_length_mm  body_mass_g  year  ...  island_Biscoe  island_Dream  island_Torgersen  sex_female  sex_male\n",
            "0            39.1           18.7              181.0       3750.0  2007  ...          False         False              True       False      True\n",
            "1            39.5           17.4              186.0       3800.0  2007  ...          False         False              True        True     False\n",
            "2            40.3           18.0              195.0       3250.0  2007  ...          False         False              True        True     False\n",
            "3             NaN            NaN                NaN          NaN  2007  ...          False         False              True       False     False\n",
            "4            36.7           19.3              193.0       3450.0  2007  ...          False         False              True        True     False\n",
            "\n",
            "[5 rows x 13 columns]\n"
          ]
        }
      ],
      "source": [
        "# Dummify species, island, and sex variables\n",
        "penguins = pd.get_dummies(penguins, columns=['species', 'island', 'sex'],\n",
        "                         prefix=['species', 'island', 'sex'],\n",
        "                         dummy_na=False)\n",
        "\n",
        "print(penguins.head())"
      ]
    },
    {
      "cell_type": "markdown",
      "metadata": {
        "id": "TT1MVgaKm_gX"
      },
      "source": [
        "Let's use the other variables to predict `bill_depth_mm`. Prepare your data and fit the following models on a training dataset subset of the entire dataset:\n",
        "\n",
        "* Four different models, each containing a different set of predictor variables\n",
        "\n",
        "Create a plot like the right plot of Fig 1. in our `Model Validation` chapter with the training and test error plotted for each of your four models.\n",
        "\n",
        "Which of your models was best?"
      ]
    },
    {
      "cell_type": "code",
      "execution_count": 6,
      "metadata": {
        "id": "nqIvIcWpTTAJ"
      },
      "outputs": [],
      "source": [
        "import pandas as pd\n",
        "from sklearn.pipeline import Pipeline\n",
        "from sklearn.linear_model import LinearRegression\n",
        "from sklearn.metrics import r2_score, mean_squared_error\n",
        "from palmerpenguins import load_penguins\n",
        "from sklearn.compose import ColumnTransformer\n",
        "import numpy as np\n",
        "from sklearn.preprocessing import StandardScaler, OneHotEncoder, PolynomialFeatures\n",
        "from sklearn.model_selection import train_test_split"
      ]
    },
    {
      "cell_type": "code",
      "execution_count": 7,
      "metadata": {
        "id": "G0qIH2c0RlmK"
      },
      "outputs": [],
      "source": [
        "penguins = load_penguins()\n",
        "penguins = penguins.dropna()"
      ]
    },
    {
      "cell_type": "code",
      "execution_count": 8,
      "metadata": {
        "id": "M6f7JWZTm6tn"
      },
      "outputs": [],
      "source": [
        "X=penguins.drop(columns=[\"bill_depth_mm\"], axis = 1)\n",
        "y=penguins[\"bill_depth_mm\"]\n",
        "X_train, X_test, y_train, y_test = train_test_split(X, y, test_size=0.25)\n",
        "\n",
        "lr = LinearRegression()\n",
        "\n",
        "data = []"
      ]
    },
    {
      "cell_type": "code",
      "execution_count": 9,
      "metadata": {
        "id": "O2zwo-D_TfM1"
      },
      "outputs": [],
      "source": [
        "ct= ColumnTransformer(\n",
        "    [\n",
        "    (\"standardize\", StandardScaler(), [\"bill_length_mm\"])\n",
        "    ],\n",
        "    remainder=\"drop\"\n",
        ")\n",
        "\n",
        "lr_pipeline = Pipeline(\n",
        "  [(\"standardize\", ct),\n",
        "  (\"linear_regression\", LinearRegression())]\n",
        ").set_output(transform=\"pandas\")\n",
        "\n",
        "fitted_model = lr_pipeline.fit(X_train, y_train)\n",
        "train_preds = fitted_model.predict(X_train)\n",
        "test_preds = fitted_model.predict(X_test)\n",
        "\n",
        "\n",
        "data.append({\n",
        "    \"Model\": 1,\n",
        "    \"test_MSE\": mean_squared_error(y_test,test_preds),\n",
        "    \"train_MSE\": mean_squared_error(y_train, train_preds),\n",
        "})"
      ]
    },
    {
      "cell_type": "code",
      "execution_count": 10,
      "metadata": {
        "id": "rGbwXpoxQpUk"
      },
      "outputs": [],
      "source": [
        "ct2= ColumnTransformer(\n",
        "    [\n",
        "    (\"standardize\", StandardScaler(), [\"bill_length_mm\", \"flipper_length_mm\"]),\n",
        "    ],\n",
        "    remainder=\"drop\"\n",
        ")\n",
        "\n",
        "lr_pipeline2 = Pipeline(\n",
        "  [(\"standardize\", ct2),\n",
        "  (\"linear_regression\", LinearRegression())]\n",
        ").set_output(transform=\"pandas\")\n",
        "\n",
        "fitted_model2 = lr_pipeline2.fit(X_train, y_train)\n",
        "Xtrain_preds = fitted_model2.predict(X_train)\n",
        "Xtest_preds = fitted_model2.predict(X_test)\n",
        "\n",
        "\n",
        "\n",
        "data.append({\n",
        "    \"Model\": 2,\n",
        "    \"test_MSE\": mean_squared_error(y_test,Xtest_preds),\n",
        "    \"train_MSE\": mean_squared_error(y_train, Xtrain_preds),\n",
        "})"
      ]
    },
    {
      "cell_type": "code",
      "execution_count": 11,
      "metadata": {
        "id": "p-WKRCvpRsH5"
      },
      "outputs": [],
      "source": [
        "ct3= ColumnTransformer(\n",
        "    [\n",
        "    (\"standardize\", StandardScaler(), [\"bill_length_mm\", \"flipper_length_mm\",\"body_mass_g\" ]),\n",
        "    ],\n",
        "    remainder=\"drop\"\n",
        ")\n",
        "\n",
        "lr_pipeline3 = Pipeline(\n",
        "  [(\"standardize\", ct3),\n",
        "  (\"linear_regression\", LinearRegression())]\n",
        ").set_output(transform=\"pandas\")\n",
        "\n",
        "fitted_model3 = lr_pipeline3.fit(X_train, y_train)\n",
        "Xtrain_preds = fitted_model3.predict(X_train)\n",
        "Xtest_preds = fitted_model3.predict(X_test)\n",
        "\n",
        "\n",
        "\n",
        "data.append({\n",
        "    \"Model\": 3,\n",
        "    \"test_MSE\": mean_squared_error(y_test,Xtest_preds),\n",
        "    \"train_MSE\": mean_squared_error(y_train, Xtrain_preds),\n",
        "})"
      ]
    },
    {
      "cell_type": "code",
      "execution_count": 12,
      "metadata": {
        "id": "KgMnj5BbRyGb"
      },
      "outputs": [],
      "source": [
        "ct4= ColumnTransformer(\n",
        "    [\n",
        "    (\"dummify\", OneHotEncoder(sparse_output = False), [\"sex\",\"island\"]),\n",
        "    (\"standardize\", StandardScaler(), [\"bill_length_mm\", \"flipper_length_mm\",\"body_mass_g\" ]),\n",
        "    ],\n",
        "    remainder=\"drop\"\n",
        ")\n",
        "\n",
        "lr_pipeline4 = Pipeline(\n",
        "  [(\"standardize\", ct4),\n",
        "  (\"linear_regression\", LinearRegression())]\n",
        ").set_output(transform=\"pandas\")\n",
        "\n",
        "\n",
        "fitted_model4 = lr_pipeline4.fit(X_train, y_train)\n",
        "Xtrain_preds = fitted_model4.predict(X_train)\n",
        "Xtest_preds = fitted_model4.predict(X_test)\n",
        "\n",
        "data.append({\n",
        "    \"Model\": 4,\n",
        "    \"test_MSE\": mean_squared_error(y_test,Xtest_preds),\n",
        "    \"train_MSE\": mean_squared_error(y_train, Xtrain_preds),\n",
        "})\n"
      ]
    },
    {
      "cell_type": "code",
      "execution_count": 13,
      "metadata": {
        "colab": {
          "base_uri": "https://localhost:8080/",
          "height": 206
        },
        "id": "PFIK0iiPR1A7",
        "outputId": "e1af725d-2712-4473-8178-84c9d0908d62"
      },
      "outputs": [
        {
          "data": {
            "text/html": [
              "<div>\n",
              "<style scoped>\n",
              "    .dataframe tbody tr th:only-of-type {\n",
              "        vertical-align: middle;\n",
              "    }\n",
              "\n",
              "    .dataframe tbody tr th {\n",
              "        vertical-align: top;\n",
              "    }\n",
              "\n",
              "    .dataframe thead th {\n",
              "        text-align: right;\n",
              "    }\n",
              "</style>\n",
              "<table border=\"1\" class=\"dataframe\">\n",
              "  <thead>\n",
              "    <tr style=\"text-align: right;\">\n",
              "      <th></th>\n",
              "      <th>Model</th>\n",
              "      <th>test_MSE</th>\n",
              "      <th>train_MSE</th>\n",
              "    </tr>\n",
              "  </thead>\n",
              "  <tbody>\n",
              "    <tr>\n",
              "      <th>0</th>\n",
              "      <td>1</td>\n",
              "      <td>4.056524</td>\n",
              "      <td>3.533314</td>\n",
              "    </tr>\n",
              "    <tr>\n",
              "      <th>1</th>\n",
              "      <td>2</td>\n",
              "      <td>2.772771</td>\n",
              "      <td>2.318186</td>\n",
              "    </tr>\n",
              "    <tr>\n",
              "      <th>2</th>\n",
              "      <td>3</td>\n",
              "      <td>2.778338</td>\n",
              "      <td>2.300106</td>\n",
              "    </tr>\n",
              "    <tr>\n",
              "      <th>3</th>\n",
              "      <td>4</td>\n",
              "      <td>1.079944</td>\n",
              "      <td>1.224014</td>\n",
              "    </tr>\n",
              "  </tbody>\n",
              "</table>\n",
              "</div>"
            ],
            "text/plain": [
              "   Model  test_MSE  train_MSE\n",
              "0      1  4.056524   3.533314\n",
              "1      2  2.772771   2.318186\n",
              "2      3  2.778338   2.300106\n",
              "3      4  1.079944   1.224014"
            ]
          },
          "execution_count": null,
          "metadata": {},
          "output_type": "execute_result"
        }
      ],
      "source": [
        "data = pd.DataFrame(data)\n",
        "data"
      ]
    },
    {
      "cell_type": "code",
      "execution_count": 14,
      "metadata": {
        "id": "VPiv-Uu8R2S9"
      },
      "outputs": [],
      "source": [
        "from plotnine import ggplot, aes, geom_point, geom_line, labs"
      ]
    },
    {
      "cell_type": "code",
      "execution_count": 15,
      "metadata": {
        "colab": {
          "base_uri": "https://localhost:8080/",
          "height": 497
        },
        "id": "gFcEBFwVR3jc",
        "outputId": "0d0f11eb-5b7c-47b8-c7bf-2ae4b59692ad"
      },
      "outputs": [
        {
          "data": {
            "image/png": "[encoded data removed]"
          },
          "metadata": {},
          "output_type": "display_data"
        }
      ],
      "source": [
        "\n",
        "(ggplot(data, aes(x='Model')) +\n",
        "    geom_line(aes(y=\"test_MSE\"), color='blue') +\n",
        "    geom_line(aes(y=\"train_MSE\"), color='red') +\n",
        "    labs(title='Test vs Train MSE by Flexibility', x='Flexibility', y='MSE')\n",
        ")"
      ]
    },
    {
      "cell_type": "markdown",
      "metadata": {
        "id": "XVv8IZgWSLfu"
      },
      "source": [
        "Model 4 seems to be the best fit because it has the lowest MSE."
      ]
    }
  ],
  "metadata": {
    "colab": {
      "provenance": []
    },
    "kernelspec": {
      "display_name": "Python 3",
      "name": "python3"
    },
    "language_info": {
      "name": "python"
    }
  },
  "nbformat": 4,
  "nbformat_minor": 0
}
